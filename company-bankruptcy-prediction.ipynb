{
 "cells": [
  {
   "cell_type": "code",
   "execution_count": 3,
   "id": "ad585dcc",
   "metadata": {},
   "outputs": [],
   "source": [
    "import numpy as np \n",
    "import pandas as pd\n",
    "import matplotlib.pyplot as plt\n",
    "%matplotlib inline\n",
    "plt.rcParams[\"figure.figsize\"] = (20,10)\n",
    "import seaborn as sns\n",
    "\n",
    "from sklearn.model_selection import train_test_split"
   ]
  },
  {
   "cell_type": "code",
   "execution_count": 4,
   "id": "2b2cd25a",
   "metadata": {},
   "outputs": [
    {
     "data": {
      "text/html": [
       "<div>\n",
       "<style scoped>\n",
       "    .dataframe tbody tr th:only-of-type {\n",
       "        vertical-align: middle;\n",
       "    }\n",
       "\n",
       "    .dataframe tbody tr th {\n",
       "        vertical-align: top;\n",
       "    }\n",
       "\n",
       "    .dataframe thead th {\n",
       "        text-align: right;\n",
       "    }\n",
       "</style>\n",
       "<table border=\"1\" class=\"dataframe\">\n",
       "  <thead>\n",
       "    <tr style=\"text-align: right;\">\n",
       "      <th></th>\n",
       "      <th>Bankrupt?</th>\n",
       "      <th>ROA(C) before interest and depreciation before interest</th>\n",
       "      <th>ROA(A) before interest and % after tax</th>\n",
       "      <th>ROA(B) before interest and depreciation after tax</th>\n",
       "      <th>Operating Gross Margin</th>\n",
       "      <th>Realized Sales Gross Margin</th>\n",
       "      <th>Operating Profit Rate</th>\n",
       "      <th>Pre-tax net Interest Rate</th>\n",
       "      <th>After-tax net Interest Rate</th>\n",
       "      <th>Non-industry income and expenditure/revenue</th>\n",
       "      <th>...</th>\n",
       "      <th>Net Income to Total Assets</th>\n",
       "      <th>Total assets to GNP price</th>\n",
       "      <th>No-credit Interval</th>\n",
       "      <th>Gross Profit to Sales</th>\n",
       "      <th>Net Income to Stockholder's Equity</th>\n",
       "      <th>Liability to Equity</th>\n",
       "      <th>Degree of Financial Leverage (DFL)</th>\n",
       "      <th>Interest Coverage Ratio (Interest expense to EBIT)</th>\n",
       "      <th>Net Income Flag</th>\n",
       "      <th>Equity to Liability</th>\n",
       "    </tr>\n",
       "  </thead>\n",
       "  <tbody>\n",
       "    <tr>\n",
       "      <th>0</th>\n",
       "      <td>1</td>\n",
       "      <td>0.370594</td>\n",
       "      <td>0.424389</td>\n",
       "      <td>0.405750</td>\n",
       "      <td>0.601457</td>\n",
       "      <td>0.601457</td>\n",
       "      <td>0.998969</td>\n",
       "      <td>0.796887</td>\n",
       "      <td>0.808809</td>\n",
       "      <td>0.302646</td>\n",
       "      <td>...</td>\n",
       "      <td>0.716845</td>\n",
       "      <td>0.009219</td>\n",
       "      <td>0.622879</td>\n",
       "      <td>0.601453</td>\n",
       "      <td>0.827890</td>\n",
       "      <td>0.290202</td>\n",
       "      <td>0.026601</td>\n",
       "      <td>0.564050</td>\n",
       "      <td>1</td>\n",
       "      <td>0.016469</td>\n",
       "    </tr>\n",
       "    <tr>\n",
       "      <th>1</th>\n",
       "      <td>1</td>\n",
       "      <td>0.464291</td>\n",
       "      <td>0.538214</td>\n",
       "      <td>0.516730</td>\n",
       "      <td>0.610235</td>\n",
       "      <td>0.610235</td>\n",
       "      <td>0.998946</td>\n",
       "      <td>0.797380</td>\n",
       "      <td>0.809301</td>\n",
       "      <td>0.303556</td>\n",
       "      <td>...</td>\n",
       "      <td>0.795297</td>\n",
       "      <td>0.008323</td>\n",
       "      <td>0.623652</td>\n",
       "      <td>0.610237</td>\n",
       "      <td>0.839969</td>\n",
       "      <td>0.283846</td>\n",
       "      <td>0.264577</td>\n",
       "      <td>0.570175</td>\n",
       "      <td>1</td>\n",
       "      <td>0.020794</td>\n",
       "    </tr>\n",
       "    <tr>\n",
       "      <th>2</th>\n",
       "      <td>1</td>\n",
       "      <td>0.426071</td>\n",
       "      <td>0.499019</td>\n",
       "      <td>0.472295</td>\n",
       "      <td>0.601450</td>\n",
       "      <td>0.601364</td>\n",
       "      <td>0.998857</td>\n",
       "      <td>0.796403</td>\n",
       "      <td>0.808388</td>\n",
       "      <td>0.302035</td>\n",
       "      <td>...</td>\n",
       "      <td>0.774670</td>\n",
       "      <td>0.040003</td>\n",
       "      <td>0.623841</td>\n",
       "      <td>0.601449</td>\n",
       "      <td>0.836774</td>\n",
       "      <td>0.290189</td>\n",
       "      <td>0.026555</td>\n",
       "      <td>0.563706</td>\n",
       "      <td>1</td>\n",
       "      <td>0.016474</td>\n",
       "    </tr>\n",
       "    <tr>\n",
       "      <th>3</th>\n",
       "      <td>1</td>\n",
       "      <td>0.399844</td>\n",
       "      <td>0.451265</td>\n",
       "      <td>0.457733</td>\n",
       "      <td>0.583541</td>\n",
       "      <td>0.583541</td>\n",
       "      <td>0.998700</td>\n",
       "      <td>0.796967</td>\n",
       "      <td>0.808966</td>\n",
       "      <td>0.303350</td>\n",
       "      <td>...</td>\n",
       "      <td>0.739555</td>\n",
       "      <td>0.003252</td>\n",
       "      <td>0.622929</td>\n",
       "      <td>0.583538</td>\n",
       "      <td>0.834697</td>\n",
       "      <td>0.281721</td>\n",
       "      <td>0.026697</td>\n",
       "      <td>0.564663</td>\n",
       "      <td>1</td>\n",
       "      <td>0.023982</td>\n",
       "    </tr>\n",
       "    <tr>\n",
       "      <th>4</th>\n",
       "      <td>1</td>\n",
       "      <td>0.465022</td>\n",
       "      <td>0.538432</td>\n",
       "      <td>0.522298</td>\n",
       "      <td>0.598783</td>\n",
       "      <td>0.598783</td>\n",
       "      <td>0.998973</td>\n",
       "      <td>0.797366</td>\n",
       "      <td>0.809304</td>\n",
       "      <td>0.303475</td>\n",
       "      <td>...</td>\n",
       "      <td>0.795016</td>\n",
       "      <td>0.003878</td>\n",
       "      <td>0.623521</td>\n",
       "      <td>0.598782</td>\n",
       "      <td>0.839973</td>\n",
       "      <td>0.278514</td>\n",
       "      <td>0.024752</td>\n",
       "      <td>0.575617</td>\n",
       "      <td>1</td>\n",
       "      <td>0.035490</td>\n",
       "    </tr>\n",
       "  </tbody>\n",
       "</table>\n",
       "<p>5 rows × 96 columns</p>\n",
       "</div>"
      ],
      "text/plain": [
       "   Bankrupt?   ROA(C) before interest and depreciation before interest  \\\n",
       "0          1                                           0.370594          \n",
       "1          1                                           0.464291          \n",
       "2          1                                           0.426071          \n",
       "3          1                                           0.399844          \n",
       "4          1                                           0.465022          \n",
       "\n",
       "    ROA(A) before interest and % after tax  \\\n",
       "0                                 0.424389   \n",
       "1                                 0.538214   \n",
       "2                                 0.499019   \n",
       "3                                 0.451265   \n",
       "4                                 0.538432   \n",
       "\n",
       "    ROA(B) before interest and depreciation after tax  \\\n",
       "0                                           0.405750    \n",
       "1                                           0.516730    \n",
       "2                                           0.472295    \n",
       "3                                           0.457733    \n",
       "4                                           0.522298    \n",
       "\n",
       "    Operating Gross Margin   Realized Sales Gross Margin  \\\n",
       "0                 0.601457                      0.601457   \n",
       "1                 0.610235                      0.610235   \n",
       "2                 0.601450                      0.601364   \n",
       "3                 0.583541                      0.583541   \n",
       "4                 0.598783                      0.598783   \n",
       "\n",
       "    Operating Profit Rate   Pre-tax net Interest Rate  \\\n",
       "0                0.998969                    0.796887   \n",
       "1                0.998946                    0.797380   \n",
       "2                0.998857                    0.796403   \n",
       "3                0.998700                    0.796967   \n",
       "4                0.998973                    0.797366   \n",
       "\n",
       "    After-tax net Interest Rate   Non-industry income and expenditure/revenue  \\\n",
       "0                      0.808809                                      0.302646   \n",
       "1                      0.809301                                      0.303556   \n",
       "2                      0.808388                                      0.302035   \n",
       "3                      0.808966                                      0.303350   \n",
       "4                      0.809304                                      0.303475   \n",
       "\n",
       "   ...   Net Income to Total Assets   Total assets to GNP price  \\\n",
       "0  ...                     0.716845                    0.009219   \n",
       "1  ...                     0.795297                    0.008323   \n",
       "2  ...                     0.774670                    0.040003   \n",
       "3  ...                     0.739555                    0.003252   \n",
       "4  ...                     0.795016                    0.003878   \n",
       "\n",
       "    No-credit Interval   Gross Profit to Sales  \\\n",
       "0             0.622879                0.601453   \n",
       "1             0.623652                0.610237   \n",
       "2             0.623841                0.601449   \n",
       "3             0.622929                0.583538   \n",
       "4             0.623521                0.598782   \n",
       "\n",
       "    Net Income to Stockholder's Equity   Liability to Equity  \\\n",
       "0                             0.827890              0.290202   \n",
       "1                             0.839969              0.283846   \n",
       "2                             0.836774              0.290189   \n",
       "3                             0.834697              0.281721   \n",
       "4                             0.839973              0.278514   \n",
       "\n",
       "    Degree of Financial Leverage (DFL)  \\\n",
       "0                             0.026601   \n",
       "1                             0.264577   \n",
       "2                             0.026555   \n",
       "3                             0.026697   \n",
       "4                             0.024752   \n",
       "\n",
       "    Interest Coverage Ratio (Interest expense to EBIT)   Net Income Flag  \\\n",
       "0                                           0.564050                   1   \n",
       "1                                           0.570175                   1   \n",
       "2                                           0.563706                   1   \n",
       "3                                           0.564663                   1   \n",
       "4                                           0.575617                   1   \n",
       "\n",
       "    Equity to Liability  \n",
       "0              0.016469  \n",
       "1              0.020794  \n",
       "2              0.016474  \n",
       "3              0.023982  \n",
       "4              0.035490  \n",
       "\n",
       "[5 rows x 96 columns]"
      ]
     },
     "execution_count": 4,
     "metadata": {},
     "output_type": "execute_result"
    }
   ],
   "source": [
    "seed = 42\n",
    "\n",
    "file = 'data/data.csv'\n",
    "df = pd.read_csv(file)\n",
    "df.head()"
   ]
  },
  {
   "cell_type": "code",
   "execution_count": 5,
   "id": "8f163165",
   "metadata": {},
   "outputs": [
    {
     "name": "stdout",
     "output_type": "stream",
     "text": [
      "<class 'pandas.core.frame.DataFrame'>\n",
      "RangeIndex: 6819 entries, 0 to 6818\n",
      "Data columns (total 96 columns):\n",
      " #   Column                                                    Non-Null Count  Dtype  \n",
      "---  ------                                                    --------------  -----  \n",
      " 0   Bankrupt?                                                 6819 non-null   int64  \n",
      " 1    ROA(C) before interest and depreciation before interest  6819 non-null   float64\n",
      " 2    ROA(A) before interest and % after tax                   6819 non-null   float64\n",
      " 3    ROA(B) before interest and depreciation after tax        6819 non-null   float64\n",
      " 4    Operating Gross Margin                                   6819 non-null   float64\n",
      " 5    Realized Sales Gross Margin                              6819 non-null   float64\n",
      " 6    Operating Profit Rate                                    6819 non-null   float64\n",
      " 7    Pre-tax net Interest Rate                                6819 non-null   float64\n",
      " 8    After-tax net Interest Rate                              6819 non-null   float64\n",
      " 9    Non-industry income and expenditure/revenue              6819 non-null   float64\n",
      " 10   Continuous interest rate (after tax)                     6819 non-null   float64\n",
      " 11   Operating Expense Rate                                   6819 non-null   float64\n",
      " 12   Research and development expense rate                    6819 non-null   float64\n",
      " 13   Cash flow rate                                           6819 non-null   float64\n",
      " 14   Interest-bearing debt interest rate                      6819 non-null   float64\n",
      " 15   Tax rate (A)                                             6819 non-null   float64\n",
      " 16   Net Value Per Share (B)                                  6819 non-null   float64\n",
      " 17   Net Value Per Share (A)                                  6819 non-null   float64\n",
      " 18   Net Value Per Share (C)                                  6819 non-null   float64\n",
      " 19   Persistent EPS in the Last Four Seasons                  6819 non-null   float64\n",
      " 20   Cash Flow Per Share                                      6819 non-null   float64\n",
      " 21   Revenue Per Share (Yuan ¥)                               6819 non-null   float64\n",
      " 22   Operating Profit Per Share (Yuan ¥)                      6819 non-null   float64\n",
      " 23   Per Share Net profit before tax (Yuan ¥)                 6819 non-null   float64\n",
      " 24   Realized Sales Gross Profit Growth Rate                  6819 non-null   float64\n",
      " 25   Operating Profit Growth Rate                             6819 non-null   float64\n",
      " 26   After-tax Net Profit Growth Rate                         6819 non-null   float64\n",
      " 27   Regular Net Profit Growth Rate                           6819 non-null   float64\n",
      " 28   Continuous Net Profit Growth Rate                        6819 non-null   float64\n",
      " 29   Total Asset Growth Rate                                  6819 non-null   float64\n",
      " 30   Net Value Growth Rate                                    6819 non-null   float64\n",
      " 31   Total Asset Return Growth Rate Ratio                     6819 non-null   float64\n",
      " 32   Cash Reinvestment %                                      6819 non-null   float64\n",
      " 33   Current Ratio                                            6819 non-null   float64\n",
      " 34   Quick Ratio                                              6819 non-null   float64\n",
      " 35   Interest Expense Ratio                                   6819 non-null   float64\n",
      " 36   Total debt/Total net worth                               6819 non-null   float64\n",
      " 37   Debt ratio %                                             6819 non-null   float64\n",
      " 38   Net worth/Assets                                         6819 non-null   float64\n",
      " 39   Long-term fund suitability ratio (A)                     6819 non-null   float64\n",
      " 40   Borrowing dependency                                     6819 non-null   float64\n",
      " 41   Contingent liabilities/Net worth                         6819 non-null   float64\n",
      " 42   Operating profit/Paid-in capital                         6819 non-null   float64\n",
      " 43   Net profit before tax/Paid-in capital                    6819 non-null   float64\n",
      " 44   Inventory and accounts receivable/Net value              6819 non-null   float64\n",
      " 45   Total Asset Turnover                                     6819 non-null   float64\n",
      " 46   Accounts Receivable Turnover                             6819 non-null   float64\n",
      " 47   Average Collection Days                                  6819 non-null   float64\n",
      " 48   Inventory Turnover Rate (times)                          6819 non-null   float64\n",
      " 49   Fixed Assets Turnover Frequency                          6819 non-null   float64\n",
      " 50   Net Worth Turnover Rate (times)                          6819 non-null   float64\n",
      " 51   Revenue per person                                       6819 non-null   float64\n",
      " 52   Operating profit per person                              6819 non-null   float64\n",
      " 53   Allocation rate per person                               6819 non-null   float64\n",
      " 54   Working Capital to Total Assets                          6819 non-null   float64\n",
      " 55   Quick Assets/Total Assets                                6819 non-null   float64\n",
      " 56   Current Assets/Total Assets                              6819 non-null   float64\n",
      " 57   Cash/Total Assets                                        6819 non-null   float64\n",
      " 58   Quick Assets/Current Liability                           6819 non-null   float64\n",
      " 59   Cash/Current Liability                                   6819 non-null   float64\n",
      " 60   Current Liability to Assets                              6819 non-null   float64\n",
      " 61   Operating Funds to Liability                             6819 non-null   float64\n",
      " 62   Inventory/Working Capital                                6819 non-null   float64\n",
      " 63   Inventory/Current Liability                              6819 non-null   float64\n",
      " 64   Current Liabilities/Liability                            6819 non-null   float64\n",
      " 65   Working Capital/Equity                                   6819 non-null   float64\n",
      " 66   Current Liabilities/Equity                               6819 non-null   float64\n",
      " 67   Long-term Liability to Current Assets                    6819 non-null   float64\n",
      " 68   Retained Earnings to Total Assets                        6819 non-null   float64\n",
      " 69   Total income/Total expense                               6819 non-null   float64\n",
      " 70   Total expense/Assets                                     6819 non-null   float64\n",
      " 71   Current Asset Turnover Rate                              6819 non-null   float64\n",
      " 72   Quick Asset Turnover Rate                                6819 non-null   float64\n",
      " 73   Working capitcal Turnover Rate                           6819 non-null   float64\n",
      " 74   Cash Turnover Rate                                       6819 non-null   float64\n",
      " 75   Cash Flow to Sales                                       6819 non-null   float64\n",
      " 76   Fixed Assets to Assets                                   6819 non-null   float64\n",
      " 77   Current Liability to Liability                           6819 non-null   float64\n",
      " 78   Current Liability to Equity                              6819 non-null   float64\n",
      " 79   Equity to Long-term Liability                            6819 non-null   float64\n",
      " 80   Cash Flow to Total Assets                                6819 non-null   float64\n",
      " 81   Cash Flow to Liability                                   6819 non-null   float64\n",
      " 82   CFO to Assets                                            6819 non-null   float64\n",
      " 83   Cash Flow to Equity                                      6819 non-null   float64\n",
      " 84   Current Liability to Current Assets                      6819 non-null   float64\n",
      " 85   Liability-Assets Flag                                    6819 non-null   int64  \n",
      " 86   Net Income to Total Assets                               6819 non-null   float64\n",
      " 87   Total assets to GNP price                                6819 non-null   float64\n",
      " 88   No-credit Interval                                       6819 non-null   float64\n",
      " 89   Gross Profit to Sales                                    6819 non-null   float64\n",
      " 90   Net Income to Stockholder's Equity                       6819 non-null   float64\n",
      " 91   Liability to Equity                                      6819 non-null   float64\n",
      " 92   Degree of Financial Leverage (DFL)                       6819 non-null   float64\n",
      " 93   Interest Coverage Ratio (Interest expense to EBIT)       6819 non-null   float64\n",
      " 94   Net Income Flag                                          6819 non-null   int64  \n",
      " 95   Equity to Liability                                      6819 non-null   float64\n",
      "dtypes: float64(93), int64(3)\n",
      "memory usage: 5.0 MB\n"
     ]
    }
   ],
   "source": [
    "df.info()"
   ]
  },
  {
   "cell_type": "code",
   "execution_count": 6,
   "id": "2debf395",
   "metadata": {},
   "outputs": [
    {
     "data": {
      "text/plain": [
       " Net Income Flag    1\n",
       "dtype: int64"
      ]
     },
     "execution_count": 6,
     "metadata": {},
     "output_type": "execute_result"
    }
   ],
   "source": [
    "df.nunique()[df.nunique()==1]"
   ]
  },
  {
   "cell_type": "code",
   "execution_count": 7,
   "id": "5ee84992",
   "metadata": {},
   "outputs": [
    {
     "data": {
      "text/plain": [
       "Index(['Bankrupt?', ' ROA(C) before interest and depreciation before interest',\n",
       "       ' ROA(A) before interest and % after tax',\n",
       "       ' ROA(B) before interest and depreciation after tax',\n",
       "       ' Operating Gross Margin', ' Realized Sales Gross Margin',\n",
       "       ' Operating Profit Rate', ' Pre-tax net Interest Rate',\n",
       "       ' After-tax net Interest Rate',\n",
       "       ' Non-industry income and expenditure/revenue',\n",
       "       ' Continuous interest rate (after tax)', ' Operating Expense Rate',\n",
       "       ' Research and development expense rate', ' Cash flow rate',\n",
       "       ' Interest-bearing debt interest rate', ' Tax rate (A)',\n",
       "       ' Net Value Per Share (B)', ' Net Value Per Share (A)',\n",
       "       ' Net Value Per Share (C)', ' Persistent EPS in the Last Four Seasons',\n",
       "       ' Cash Flow Per Share', ' Revenue Per Share (Yuan ¥)',\n",
       "       ' Operating Profit Per Share (Yuan ¥)',\n",
       "       ' Per Share Net profit before tax (Yuan ¥)',\n",
       "       ' Realized Sales Gross Profit Growth Rate',\n",
       "       ' Operating Profit Growth Rate', ' After-tax Net Profit Growth Rate',\n",
       "       ' Regular Net Profit Growth Rate', ' Continuous Net Profit Growth Rate',\n",
       "       ' Total Asset Growth Rate', ' Net Value Growth Rate',\n",
       "       ' Total Asset Return Growth Rate Ratio', ' Cash Reinvestment %',\n",
       "       ' Current Ratio', ' Quick Ratio', ' Interest Expense Ratio',\n",
       "       ' Total debt/Total net worth', ' Debt ratio %', ' Net worth/Assets',\n",
       "       ' Long-term fund suitability ratio (A)', ' Borrowing dependency',\n",
       "       ' Contingent liabilities/Net worth',\n",
       "       ' Operating profit/Paid-in capital',\n",
       "       ' Net profit before tax/Paid-in capital',\n",
       "       ' Inventory and accounts receivable/Net value', ' Total Asset Turnover',\n",
       "       ' Accounts Receivable Turnover', ' Average Collection Days',\n",
       "       ' Inventory Turnover Rate (times)', ' Fixed Assets Turnover Frequency',\n",
       "       ' Net Worth Turnover Rate (times)', ' Revenue per person',\n",
       "       ' Operating profit per person', ' Allocation rate per person',\n",
       "       ' Working Capital to Total Assets', ' Quick Assets/Total Assets',\n",
       "       ' Current Assets/Total Assets', ' Cash/Total Assets',\n",
       "       ' Quick Assets/Current Liability', ' Cash/Current Liability',\n",
       "       ' Current Liability to Assets', ' Operating Funds to Liability',\n",
       "       ' Inventory/Working Capital', ' Inventory/Current Liability',\n",
       "       ' Current Liabilities/Liability', ' Working Capital/Equity',\n",
       "       ' Current Liabilities/Equity', ' Long-term Liability to Current Assets',\n",
       "       ' Retained Earnings to Total Assets', ' Total income/Total expense',\n",
       "       ' Total expense/Assets', ' Current Asset Turnover Rate',\n",
       "       ' Quick Asset Turnover Rate', ' Working capitcal Turnover Rate',\n",
       "       ' Cash Turnover Rate', ' Cash Flow to Sales', ' Fixed Assets to Assets',\n",
       "       ' Current Liability to Liability', ' Current Liability to Equity',\n",
       "       ' Equity to Long-term Liability', ' Cash Flow to Total Assets',\n",
       "       ' Cash Flow to Liability', ' CFO to Assets', ' Cash Flow to Equity',\n",
       "       ' Current Liability to Current Assets', ' Liability-Assets Flag',\n",
       "       ' Net Income to Total Assets', ' Total assets to GNP price',\n",
       "       ' No-credit Interval', ' Gross Profit to Sales',\n",
       "       ' Net Income to Stockholder's Equity', ' Liability to Equity',\n",
       "       ' Degree of Financial Leverage (DFL)',\n",
       "       ' Interest Coverage Ratio (Interest expense to EBIT)',\n",
       "       ' Net Income Flag', ' Equity to Liability'],\n",
       "      dtype='object')"
      ]
     },
     "execution_count": 7,
     "metadata": {},
     "output_type": "execute_result"
    }
   ],
   "source": [
    "df.columns"
   ]
  },
  {
   "cell_type": "code",
   "execution_count": 8,
   "id": "e61b6976",
   "metadata": {},
   "outputs": [
    {
     "data": {
      "text/plain": [
       "Series([], dtype: int64)"
      ]
     },
     "execution_count": 8,
     "metadata": {},
     "output_type": "execute_result"
    }
   ],
   "source": [
    "new_df = df.drop(' Net Income Flag',axis=1)\n",
    "new_df.nunique()[df.nunique()==1]"
   ]
  },
  {
   "cell_type": "code",
   "execution_count": 9,
   "id": "f04631e4",
   "metadata": {},
   "outputs": [
    {
     "data": {
      "text/plain": [
       "Series([], dtype: int64)"
      ]
     },
     "execution_count": 9,
     "metadata": {},
     "output_type": "execute_result"
    }
   ],
   "source": [
    "new_df.isnull().sum()[df.isnull().sum()>0]"
   ]
  },
  {
   "cell_type": "code",
   "execution_count": 10,
   "id": "e4b007fd",
   "metadata": {},
   "outputs": [
    {
     "name": "stdout",
     "output_type": "stream",
     "text": [
      " Debt ratio %                         Net worth/Assets                              -1.000000\n",
      " Net worth/Assets                     Current Liability to Assets                   -0.842583\n",
      " Borrowing dependency                 Net Income to Stockholder's Equity            -0.806478\n",
      " Net Income to Stockholder's Equity   Liability to Equity                           -0.791836\n",
      " Contingent liabilities/Net worth     Working Capital/Equity                        -0.767778\n",
      " Current Liabilities/Equity           Net Income to Stockholder's Equity            -0.749621\n",
      " Working Capital/Equity               Current Liabilities/Equity                    -0.692675\n",
      "                                      Liability to Equity                           -0.650474\n",
      " Debt ratio %                         Equity to Liability                           -0.625879\n",
      " Working Capital to Total Assets      Current Liability to Current Assets           -0.625560\n",
      " Equity to Long-term Liability        Net Income to Stockholder's Equity            -0.615905\n",
      " Operating Profit Rate                Non-industry income and expenditure/revenue   -0.592006\n",
      " Retained Earnings to Total Assets    Total expense/Assets                          -0.541559\n",
      " Borrowing dependency                 Working Capital/Equity                        -0.535714\n",
      " Debt ratio %                         Working Capital to Total Assets               -0.528797\n",
      " Current Liability to Assets          Equity to Liability                           -0.506360\n",
      "dtype: float64\n"
     ]
    }
   ],
   "source": [
    "correlation_array = new_df.corr().unstack().drop_duplicates().sort_values(kind='Quicksort')\n",
    "\n",
    "\n",
    "top_negative_corrs = correlation_array[correlation_array<-0.5]\n",
    "print(top_negative_corrs)"
   ]
  },
  {
   "cell_type": "code",
   "execution_count": 11,
   "id": "a55ba6d0",
   "metadata": {},
   "outputs": [
    {
     "name": "stdout",
     "output_type": "stream",
     "text": [
      "Bankrupt?                                                 Bankrupt?                                             1.000000\n",
      " Operating Gross Margin                                    Gross Profit to Sales                                1.000000\n",
      " Net Value Per Share (A)                                   Net Value Per Share (C)                              0.999837\n",
      " Operating Gross Margin                                    Realized Sales Gross Margin                          0.999518\n",
      " Realized Sales Gross Margin                               Gross Profit to Sales                                0.999518\n",
      " Net Value Per Share (B)                                   Net Value Per Share (A)                              0.999342\n",
      "                                                           Net Value Per Share (C)                              0.999179\n",
      " Operating Profit Per Share (Yuan ¥)                       Operating profit/Paid-in capital                     0.998696\n",
      " After-tax Net Profit Growth Rate                          Regular Net Profit Growth Rate                       0.996186\n",
      " Pre-tax net Interest Rate                                 Continuous interest rate (after tax)                 0.993617\n",
      " ROA(C) before interest and depreciation before interest   ROA(B) before interest and depreciation after tax    0.986849\n",
      " Pre-tax net Interest Rate                                 After-tax net Interest Rate                          0.986379\n",
      " After-tax net Interest Rate                               Continuous interest rate (after tax)                 0.984452\n",
      " Current Liabilities/Equity                                Liability to Equity                                  0.963908\n",
      " Per Share Net profit before tax (Yuan ¥)                  Net profit before tax/Paid-in capital                0.962723\n",
      " ROA(A) before interest and % after tax                    Net Income to Total Assets                           0.961552\n",
      " Persistent EPS in the Last Four Seasons                   Net profit before tax/Paid-in capital                0.959461\n",
      " Borrowing dependency                                      Liability to Equity                                  0.955857\n",
      " ROA(A) before interest and % after tax                    ROA(B) before interest and depreciation after tax    0.955741\n",
      " Persistent EPS in the Last Four Seasons                   Per Share Net profit before tax (Yuan ¥)             0.955591\n",
      " Working capitcal Turnover Rate                            Cash Flow to Sales                                   0.948194\n",
      " ROA(C) before interest and depreciation before interest   ROA(A) before interest and % after tax               0.940124\n",
      " Operating Profit Rate                                     Pre-tax net Interest Rate                            0.916448\n",
      "                                                           Continuous interest rate (after tax)                 0.915544\n",
      " ROA(B) before interest and depreciation after tax         Net Income to Total Assets                           0.912040\n",
      " Borrowing dependency                                      Current Liabilities/Equity                           0.892772\n",
      " ROA(C) before interest and depreciation before interest   Net Income to Total Assets                           0.887670\n",
      " Operating profit/Paid-in capital                          Net profit before tax/Paid-in capital                0.887370\n",
      " Operating Profit Per Share (Yuan ¥)                       Net profit before tax/Paid-in capital                0.886157\n",
      " Cash flow rate                                            Operating Funds to Liability                         0.880562\n",
      " Persistent EPS in the Last Four Seasons                   Operating Profit Per Share (Yuan ¥)                  0.876769\n",
      "                                                           Operating profit/Paid-in capital                     0.873641\n",
      " Operating Profit Rate                                     After-tax net Interest Rate                          0.862191\n",
      " Operating Profit Per Share (Yuan ¥)                       Per Share Net profit before tax (Yuan ¥)             0.861813\n",
      " Per Share Net profit before tax (Yuan ¥)                  Operating profit/Paid-in capital                     0.858310\n",
      " Debt ratio %                                              Current Liability to Assets                          0.842583\n",
      " Borrowing dependency                                      Equity to Long-term Liability                        0.806889\n",
      " Retained Earnings to Total Assets                         Net Income to Total Assets                           0.794189\n",
      " Equity to Long-term Liability                             Liability to Equity                                  0.778135\n",
      " ROA(C) before interest and depreciation before interest   Persistent EPS in the Last Four Seasons              0.775006\n",
      " ROA(A) before interest and % after tax                    Persistent EPS in the Last Four Seasons              0.764828\n",
      " ROA(B) before interest and depreciation after tax         Persistent EPS in the Last Four Seasons              0.764597\n",
      " ROA(A) before interest and % after tax                    Net profit before tax/Paid-in capital                0.758234\n",
      " Total Asset Turnover                                      Net Worth Turnover Rate (times)                      0.757414\n",
      " Net Value Per Share (B)                                   Persistent EPS in the Last Four Seasons              0.755568\n",
      " Quick Assets/Total Assets                                 Current Assets/Total Assets                          0.755453\n",
      " Net Value Per Share (A)                                   Persistent EPS in the Last Four Seasons              0.755409\n",
      " Net Value Per Share (C)                                   Persistent EPS in the Last Four Seasons              0.755217\n",
      " ROA(C) before interest and depreciation before interest   Net profit before tax/Paid-in capital                0.753339\n",
      " ROA(A) before interest and % after tax                    Per Share Net profit before tax (Yuan ¥)             0.752578\n",
      " ROA(C) before interest and depreciation before interest   Per Share Net profit before tax (Yuan ¥)             0.750564\n",
      "dtype: float64\n"
     ]
    }
   ],
   "source": [
    "top_positive_corrs = correlation_array[correlation_array>0.75][::-1]\n",
    "print(top_positive_corrs)"
   ]
  },
  {
   "cell_type": "code",
   "execution_count": 12,
   "id": "25ce183f",
   "metadata": {},
   "outputs": [
    {
     "data": {
      "text/plain": [
       "0    6599\n",
       "1     220\n",
       "Name: Bankrupt?, dtype: int64"
      ]
     },
     "execution_count": 12,
     "metadata": {},
     "output_type": "execute_result"
    }
   ],
   "source": [
    "new_df['Bankrupt?'].value_counts()"
   ]
  },
  {
   "cell_type": "code",
   "execution_count": 13,
   "id": "719e7140",
   "metadata": {},
   "outputs": [],
   "source": [
    "X, y = new_df.loc[:,new_df.columns != 'Bankrupt?'], new_df['Bankrupt?']\n",
    "X_train, X_test, y_train, y_test = train_test_split(X,y, random_state=seed)"
   ]
  },
  {
   "cell_type": "markdown",
   "id": "9c59e4a4",
   "metadata": {},
   "source": [
    "# ---------------------------------------------------------------------------------------------------------------"
   ]
  },
  {
   "cell_type": "code",
   "execution_count": 14,
   "id": "3b6c9c9f",
   "metadata": {},
   "outputs": [],
   "source": [
    "from sklearn.model_selection import cross_val_score\n",
    "from sklearn.model_selection import RepeatedStratifiedKFold\n",
    "\n",
    "from imblearn.ensemble import BalancedRandomForestClassifier\n",
    "from imblearn.ensemble import EasyEnsembleClassifier\n",
    "from imblearn.ensemble import BalancedBaggingClassifier\n",
    "\n",
    "from sklearn.model_selection import RandomizedSearchCV"
   ]
  },
  {
   "cell_type": "code",
   "execution_count": 15,
   "id": "f4f20687",
   "metadata": {
    "scrolled": true
   },
   "outputs": [],
   "source": [
    "from helpers import metrics"
   ]
  },
  {
   "cell_type": "code",
   "execution_count": null,
   "id": "6bd3864d",
   "metadata": {},
   "outputs": [],
   "source": [
    "# Initiate classification models for imbalanced data. \n",
    "rf_model = BalancedRandomForestClassifier( \n",
    "    n_jobs=-1,\n",
    "    random_state=seed)\n",
    "\n",
    "easy_model = EasyEnsembleClassifier(\n",
    "    n_jobs=-1,\n",
    "    random_state=seed)\n",
    "\n",
    "bagging_model = BalancedBaggingClassifier(\n",
    "    n_jobs=-1,\n",
    "    random_state=seed)"
   ]
  },
  {
   "cell_type": "code",
   "execution_count": null,
   "id": "d3c518d0",
   "metadata": {},
   "outputs": [],
   "source": [
    "cv = RepeatedStratifiedKFold(n_splits=10, n_repeats=3, random_state=seed)\n",
    "\n",
    "scores = cross_val_score(rf_model, X_train, y_train, scoring='roc_auc', cv=cv, n_jobs=-1)\n",
    "# summarize performance\n",
    "print('Mean ROC AUC: %.3f' % np.mean(scores))"
   ]
  },
  {
   "cell_type": "code",
   "execution_count": null,
   "id": "17fe04eb",
   "metadata": {},
   "outputs": [],
   "source": [
    "rf_parameters = {'n_estimators':[50,100,200,300,400,500,600,700,900, 1000]}\n",
    "easy_parameters = {'n_estimators':[50,100,200,300,400,500,600,700,900, 1000]}\n",
    "bagging_parameters = {'n_estimators':[50,100,200,300,400,500,600,700,900, 1000]}\n",
    "\n",
    "rf_hyper_tuner = RandomizedSearchCV(rf_model, rf_parameters,scoring= 'roc_auc', random_state=seed).fit(X_train,y_train)\n",
    "easy_hyper_tuner = RandomizedSearchCV(easy_model, easy_parameters,scoring= 'roc_auc', random_state=seed).fit(X_train,y_train)\n",
    "bagging_hyper_tuner = RandomizedSearchCV(bagging_model, bagging_parameters,scoring= 'roc_auc', random_state=seed).fit(X_train,y_train)"
   ]
  },
  {
   "cell_type": "code",
   "execution_count": null,
   "id": "54679df7",
   "metadata": {},
   "outputs": [],
   "source": [
    "print('The AUC score for each model is:\\nBalanced Random Forest: {:.3f}\\nEasy Ensemble: {:.3f}\\nBalanced Bagging: {:.3f}'.format(\n",
    "      rf_hyper_tuner.best_score_,\n",
    "    easy_hyper_tuner.best_score_,\n",
    "    bagging_hyper_tuner.best_score_)\n",
    "     )"
   ]
  },
  {
   "cell_type": "code",
   "execution_count": null,
   "id": "98fd542e",
   "metadata": {},
   "outputs": [],
   "source": [
    "print('The best parameters for each model are:\\nBalanced Random Forest: {}\\nEasy Ensemble: {}\\nBalanced Bagging: {}'.format(\n",
    "      rf_hyper_tuner.best_params_,\n",
    "    easy_hyper_tuner.best_params_,\n",
    "    bagging_hyper_tuner.best_params_)\n",
    "     )"
   ]
  },
  {
   "cell_type": "markdown",
   "id": "14707ff8",
   "metadata": {},
   "source": [
    "# Results ---------------------------------------------------------------------------"
   ]
  },
  {
   "cell_type": "code",
   "execution_count": 16,
   "id": "735f5378",
   "metadata": {},
   "outputs": [],
   "source": [
    "clf = BalancedRandomForestClassifier( \n",
    "    n_estimators = 500,\n",
    "    n_jobs=-1,\n",
    "    random_state=seed)\n",
    "\n",
    "clf.fit(X_train,y_train)\n",
    "y_pred = clf.predict(X_test)\n",
    "y_prob = clf.predict_proba(X_test)\n"
   ]
  },
  {
   "cell_type": "code",
   "execution_count": 17,
   "id": "284dcb34",
   "metadata": {},
   "outputs": [],
   "source": [
    "results = metrics(y_test,y_pred,y_prob)"
   ]
  },
  {
   "cell_type": "code",
   "execution_count": 18,
   "id": "4e525774",
   "metadata": {},
   "outputs": [
    {
     "name": "stdout",
     "output_type": "stream",
     "text": [
      "              precision    recall  f1-score   support\n",
      "\n",
      "           0       0.99      0.85      0.92      1647\n",
      "           1       0.17      0.84      0.28        58\n",
      "\n",
      "    accuracy                           0.85      1705\n",
      "   macro avg       0.58      0.85      0.60      1705\n",
      "weighted avg       0.97      0.85      0.90      1705\n",
      "\n"
     ]
    }
   ],
   "source": [
    "results.report()"
   ]
  },
  {
   "cell_type": "code",
   "execution_count": 19,
   "id": "1de223b6",
   "metadata": {},
   "outputs": [
    {
     "data": {
      "image/png": "[encoded data removed]",
      "text/plain": [
       "<Figure size 1440x720 with 1 Axes>"
      ]
     },
     "metadata": {
      "needs_background": "light"
     },
     "output_type": "display_data"
    }
   ],
   "source": [
    "results.roc()"
   ]
  },
  {
   "cell_type": "code",
   "execution_count": 20,
   "id": "2abc0866",
   "metadata": {},
   "outputs": [
    {
     "name": "stdout",
     "output_type": "stream",
     "text": [
      "test2\n"
     ]
    }
   ],
   "source": [
    "results.test()"
   ]
  },
  {
   "cell_type": "code",
   "execution_count": null,
   "id": "013f926d",
   "metadata": {},
   "outputs": [],
   "source": []
  }
 ],
 "metadata": {
  "kernelspec": {
   "display_name": "Python 3 (ipykernel)",
   "language": "python",
   "name": "python3"
  },
  "language_info": {
   "codemirror_mode": {
    "name": "ipython",
    "version": 3
   },
   "file_extension": ".py",
   "mimetype": "text/x-python",
   "name": "python",
   "nbconvert_exporter": "python",
   "pygments_lexer": "ipython3",
   "version": "3.9.10"
  }
 },
 "nbformat": 4,
 "nbformat_minor": 5
}
